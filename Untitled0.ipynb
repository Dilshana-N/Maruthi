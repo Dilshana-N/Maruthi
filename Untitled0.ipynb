{
  "nbformat": 4,
  "nbformat_minor": 0,
  "metadata": {
    "colab": {
      "provenance": [],
      "authorship_tag": "ABX9TyPuhLDAIAB5LQLKPc7oFCU8",
      "include_colab_link": true
    },
    "kernelspec": {
      "name": "python3",
      "display_name": "Python 3"
    },
    "language_info": {
      "name": "python"
    }
  },
  "cells": [
    {
      "cell_type": "markdown",
      "metadata": {
        "id": "view-in-github",
        "colab_type": "text"
      },
      "source": [
        "<a href=\"https://colab.research.google.com/github/Dilshana-N/Maruthi/blob/master/Untitled0.ipynb\" target=\"_parent\"><img src=\"https://colab.research.google.com/assets/colab-badge.svg\" alt=\"Open In Colab\"/></a>"
      ]
    },
    {
      "cell_type": "code",
      "execution_count": null,
      "metadata": {
        "colab": {
          "base_uri": "https://localhost:8080/"
        },
        "id": "L5O1txQk6TZh",
        "outputId": "c6faf7b2-4d12-4a8e-bfbc-62e482a2c4bf"
      },
      "outputs": [
        {
          "output_type": "stream",
          "name": "stdout",
          "text": [
            "3\n"
          ]
        }
      ],
      "source": [
        "list=[19,19,15,5,3,5,5,2]\n",
        "x=list.count(5)\n",
        "print(x)"
      ]
    },
    {
      "cell_type": "code",
      "source": [
        "list=[19,19,15,5,3,5,5,2]\n",
        "if(list.count(5)>=3 and list.count(19)==3):\n",
        "  print(\"true\")\n",
        "else:\n",
        "  print( \"false\")\n"
      ],
      "metadata": {
        "colab": {
          "base_uri": "https://localhost:8080/"
        },
        "id": "Bm0fQfrD96dE",
        "outputId": "face094a-6ec6-46bb-ac27-f61ab9ff2e4b"
      },
      "execution_count": null,
      "outputs": [
        {
          "output_type": "stream",
          "name": "stdout",
          "text": [
            "false\n"
          ]
        }
      ]
    },
    {
      "cell_type": "code",
      "source": [
        "list=[19,19,15,5,5,5,1,2]\n",
        "x=len(list)\n",
        "print(x)"
      ],
      "metadata": {
        "colab": {
          "base_uri": "https://localhost:8080/"
        },
        "id": "Rt8ZWD_k_oSw",
        "outputId": "2f00f030-6fb7-41d8-8a7a-92eded4be1fd"
      },
      "execution_count": null,
      "outputs": [
        {
          "output_type": "stream",
          "name": "stdout",
          "text": [
            "8\n"
          ]
        }
      ]
    },
    {
      "cell_type": "code",
      "source": [],
      "metadata": {
        "id": "758QEjGrBI8E"
      },
      "execution_count": null,
      "outputs": []
    },
    {
      "cell_type": "code",
      "source": [
        "list=[19,19,15,5,5,5,1,2]\n",
        "list[4]\n"
      ],
      "metadata": {
        "colab": {
          "base_uri": "https://localhost:8080/"
        },
        "id": "924y2jV9BI_h",
        "outputId": "54aa5cad-43cd-4b59-a9ec-cce5edf17129"
      },
      "execution_count": null,
      "outputs": [
        {
          "output_type": "execute_result",
          "data": {
            "text/plain": [
              "5"
            ]
          },
          "metadata": {},
          "execution_count": 15
        }
      ]
    },
    {
      "cell_type": "code",
      "source": [],
      "metadata": {
        "id": "xO9dn-u8FZV_"
      },
      "execution_count": null,
      "outputs": []
    },
    {
      "cell_type": "code",
      "source": [],
      "metadata": {
        "id": "BefGM9wMFZ4s"
      },
      "execution_count": null,
      "outputs": []
    },
    {
      "cell_type": "code",
      "source": [
        "n=float(input(\"Enter your GPA:\"))\n",
        "\n",
        "if(n>=4.0):\n",
        "   print(\"A+\")\n",
        "elif(n>=3.7):\n",
        "   print(\"A\")\n",
        "elif(n>=3.7):\n",
        "   print(\"A\")\n",
        "elif(n>=3.7):\n",
        "   print(\"A-\")\n",
        "elif(n>=3.4 ):\n",
        "   print(\"B+\")\n",
        "elif(n>=2.7):\n",
        "   print(\"B\")\n",
        "elif(n>=2.4):\n",
        "   print(\"B-\")   \n",
        "elif(n>=2.0):\n",
        "   print(\"c+\")\n",
        "elif(n>=1.7):\n",
        "   print(\"c\")\n",
        "elif(n>=1.4):\n",
        "   print(\"C-\")                \n",
        "else:\n",
        "   print(\"failed\")"
      ],
      "metadata": {
        "colab": {
          "base_uri": "https://localhost:8080/"
        },
        "id": "9kTzdMXCGKRs",
        "outputId": "16c5aa0a-1021-4d69-a506-81197f9b5fc8"
      },
      "execution_count": null,
      "outputs": [
        {
          "output_type": "stream",
          "name": "stdout",
          "text": [
            "Enter your GPA:3\n",
            "B\n"
          ]
        }
      ]
    },
    {
      "cell_type": "code",
      "source": [
        "list=[19,19,15,5,5,5,1,2]\n",
        "x=(len(list))\n",
        "print(x)\n",
        "y=list[4]\n",
        "print(y)\n",
        "z=list.count(y)\n",
        "print(z)\n",
        "if(x==8 and z==3):\n",
        "  print(\"true\")\n",
        "else:\n",
        "  print(\"false\")  \n",
        "\n"
      ],
      "metadata": {
        "colab": {
          "base_uri": "https://localhost:8080/"
        },
        "id": "d_ldSYM3CJvs",
        "outputId": "374b31bf-1aa8-4958-be51-a265f0a5c3e7"
      },
      "execution_count": null,
      "outputs": [
        {
          "output_type": "stream",
          "name": "stdout",
          "text": [
            "8\n",
            "5\n",
            "3\n",
            "true\n"
          ]
        }
      ]
    }
  ]
}